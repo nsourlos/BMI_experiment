{
 "cells": [
  {
   "cell_type": "code",
   "execution_count": 1,
   "metadata": {},
   "outputs": [],
   "source": [
    "import os\n",
    "import pandas as pd\n",
    "from scipy import stats\n",
    "from datetime import datetime\n",
    "import numpy as np\n",
    "import traceback\n",
    "\n",
    "# pd.set_option('display.max_columns', None) \n",
    "# pd.set_option('display.max_rows', None)\n",
    "# pd.set_option('display.max_colwidth', None)"
   ]
  },
  {
   "attachments": {},
   "cell_type": "markdown",
   "metadata": {},
   "source": [
    "Load LifeLines and REDCap variables"
   ]
  },
  {
   "cell_type": "code",
   "execution_count": 2,
   "metadata": {},
   "outputs": [],
   "source": [
    "#Lifelines\n",
    "path_high=os.getcwd()+\"/high_BMI_lifelines.csv\"\n",
    "path_low=os.getcwd()+\"/low_BMI_lifelines.csv\"\n",
    "path_noage=os.getcwd()+\"/LifeLines_BMI_export_latest.csv\"\n",
    "\n",
    "#Redcap\n",
    "path_redcap=os.getcwd()+\"/BMI_6-6-2023.csv\"\n",
    "path_gender=os.getcwd()+\"/BMI_all_participants_with_filled_scan_tab.csv\""
   ]
  },
  {
   "cell_type": "markdown",
   "metadata": {},
   "source": [
    "Get LifeLines dfs"
   ]
  },
  {
   "cell_type": "code",
   "execution_count": 3,
   "metadata": {},
   "outputs": [],
   "source": [
    "high_BMI=pd.read_csv(path_high)\n",
    "# high_BMI"
   ]
  },
  {
   "cell_type": "code",
   "execution_count": 4,
   "metadata": {},
   "outputs": [],
   "source": [
    "low_BMI=pd.read_csv(path_low)\n",
    "low_BMI=low_BMI[~low_BMI['patientID'].isin([130781,334327])] #Exclude cases with 10 nods in first reading\n",
    "# low_BMI"
   ]
  },
  {
   "cell_type": "code",
   "execution_count": 5,
   "metadata": {},
   "outputs": [],
   "source": [
    "BMI_lifelines=pd.concat([high_BMI,low_BMI])"
   ]
  },
  {
   "cell_type": "markdown",
   "metadata": {},
   "source": [
    "New version (age missing)"
   ]
  },
  {
   "cell_type": "code",
   "execution_count": 6,
   "metadata": {},
   "outputs": [],
   "source": [
    "# lifelines_noage=pd.read_csv(path_noage)\n",
    "# lifelines_noage=lifelines_noage[~lifelines_noage['patientID'].isin([130781,334327])] #Exclude cases with 10 nods in first reading\n",
    "\n",
    "# columns_to_check = ['bodylength_cm_all_m_1','bodyweight_kg_all_m_1']\n",
    "\n",
    "# # Filtering\n",
    "# baseline_values = lifelines_noage[lifelines_noage[columns_to_check].notna().any(axis=1)]\n",
    "# baseline_values"
   ]
  },
  {
   "cell_type": "code",
   "execution_count": 7,
   "metadata": {},
   "outputs": [],
   "source": [
    "# # Convert 'date' column to datetime format\n",
    "# baseline_values['date']=pd.to_datetime(baseline_values['date'])\n",
    "\n",
    "# # Find the index of the earliest date within each group\n",
    "# earliest_index = baseline_values.groupby('patientID')['date'].idxmin()\n",
    "\n",
    "# # Select the rows with the earliest date for each group\n",
    "# earliest_dates = baseline_values.loc[earliest_index]\n",
    "# earliest_dates"
   ]
  },
  {
   "cell_type": "code",
   "execution_count": 8,
   "metadata": {},
   "outputs": [],
   "source": [
    "# earliest_dates.count()"
   ]
  },
  {
   "cell_type": "markdown",
   "metadata": {},
   "source": [
    "Load REDCap variables"
   ]
  },
  {
   "cell_type": "code",
   "execution_count": 9,
   "metadata": {},
   "outputs": [
    {
     "name": "stderr",
     "output_type": "stream",
     "text": [
      "c:\\ProgramData\\Anaconda3\\lib\\site-packages\\IPython\\core\\interactiveshell.py:3106: DtypeWarning: Columns (17,18,39,48,58,90,91,127,164,201,238,241,242,275,349) have mixed types.Specify dtype option on import or set low_memory=False.\n",
      "  has_raised = await self.run_ast_nodes(code_ast.body, cell_name,\n"
     ]
    }
   ],
   "source": [
    "BMI_red=pd.read_csv(path_redcap)\n",
    "BMI_red=BMI_red[BMI_red['participant_id'].isin(list(high_BMI['patientID'].values)+ list(low_BMI['patientID'].values))]"
   ]
  },
  {
   "cell_type": "code",
   "execution_count": 10,
   "metadata": {},
   "outputs": [],
   "source": [
    "BMI_gender=pd.read_csv(path_gender)\n",
    "BMI_gender=BMI_gender[BMI_gender['participant_id'].isin(list(high_BMI['patientID'].values)+ list(low_BMI['patientID'].values))]\n",
    "\n",
    "assert np.sum(BMI_gender['participant_gender___1']==1)+np.sum(BMI_gender['participant_gender___2']==1)==len(BMI_gender) #1 male, 2 female"
   ]
  },
  {
   "cell_type": "code",
   "execution_count": 11,
   "metadata": {},
   "outputs": [],
   "source": [
    "BMI_gender['participant_gender___1']=BMI_gender['participant_gender___1'].map({1:'Male', 0:'Female'})\n",
    "BMI_gender.rename(columns={'participant_gender___1': 'gender'}, inplace=True)\n",
    "# BMI_gender"
   ]
  },
  {
   "cell_type": "code",
   "execution_count": 12,
   "metadata": {},
   "outputs": [],
   "source": [
    "BMI_gender_high=BMI_gender[BMI_gender['participant_id'].isin(list(high_BMI['patientID'].values))]\n",
    "BMI_gender_low=BMI_gender[BMI_gender['participant_id'].isin(list(low_BMI['patientID'].values))]"
   ]
  },
  {
   "attachments": {},
   "cell_type": "markdown",
   "metadata": {},
   "source": [
    "Calculate age for LifeLines and REDCap and compare them"
   ]
  },
  {
   "cell_type": "code",
   "execution_count": 13,
   "metadata": {},
   "outputs": [],
   "source": [
    "# #Function to calculate age of participant from age in which he/she was born\n",
    "def calculate_age(scan_date, birth_date):\n",
    "    try:\n",
    "        birth_date=datetime(int(birth_date[:4]),int(birth_date[5:7]),int(birth_date[8:10]),0,0)\n",
    "        scan_date=datetime(int(scan_date[:4]),int(scan_date[5:7]),int(scan_date[8:10]),0,0)\n",
    "        return int(scan_date.year - birth_date.year - ((scan_date.month, scan_date.day) < (birth_date.month, birth_date.day)))\n",
    "    except:\n",
    "        return np.nan"
   ]
  },
  {
   "cell_type": "code",
   "execution_count": 14,
   "metadata": {},
   "outputs": [],
   "source": [
    "BMI_red['age_at_scan']=BMI_red.apply(lambda row: calculate_age(row['scan_date'],row['date_of_birth']), axis=1)"
   ]
  },
  {
   "cell_type": "code",
   "execution_count": 15,
   "metadata": {},
   "outputs": [],
   "source": [
    "BMI_red_high=BMI_red[BMI_red['participant_id'].isin(high_BMI['patientID'])]\n",
    "BMI_red_low=BMI_red[BMI_red['participant_id'].isin(low_BMI['patientID'])]"
   ]
  },
  {
   "cell_type": "code",
   "execution_count": 16,
   "metadata": {},
   "outputs": [
    {
     "name": "stdout",
     "output_type": "stream",
     "text": [
      "From RedCap scan date is 2020-04-30 and date of birth is 1967-06-22\n",
      "RedCap age is: 52\n",
      "From LifeLines age at scan is 50.0\n",
      "Participant is: 103302\n",
      "\n",
      "\n",
      "From RedCap scan date is 2020-06-07 and date of birth is 1967-06-23\n",
      "RedCap age is: 52\n",
      "From LifeLines age at scan is 50.0\n",
      "Participant is: 108772\n",
      "\n",
      "\n",
      "From RedCap scan date is 2020-06-07 and date of birth is 1969-12-19\n",
      "RedCap age is: 50\n",
      "From LifeLines age at scan is 47.0\n",
      "Participant is: 112498\n",
      "\n",
      "\n",
      "Total null values in LifeLines data: 22\n"
     ]
    }
   ],
   "source": [
    "#High BMI\n",
    "total_null=0\n",
    "for index,age in enumerate(high_BMI['age_at_scan'].values):\n",
    "    if age==BMI_red_high['age_at_scan'].iloc[index]:\n",
    "        pass\n",
    "    else:\n",
    "        if age<200: #Ensure no nan values are printed\n",
    "            print('From RedCap scan date is',BMI_red_high['scan_date'].iloc[index], 'and date of birth is',BMI_red_high['date_of_birth'].iloc[index])\n",
    "            print(\"RedCap age is:\",calculate_age(BMI_red_high['scan_date'].iloc[index],BMI_red_high['date_of_birth'].iloc[index]))\n",
    "            print('From LifeLines age at scan is',age)\n",
    "            print('Participant is:',high_BMI['patientID'].iloc[index])\n",
    "            print('\\n')\n",
    "        else:\n",
    "            total_null+=1\n",
    "        #     # print('From RedCap scan date is',BMI_red_high['scan_date'].iloc[index], 'and date of birth is',BMI_red_high['date_of_birth'].iloc[index])\n",
    "        #     # print('From LifeLines age at scan is',age)\n",
    "        #     print('Nan values in LifeLines data for participant',high_BMI['patientID'].iloc[index])\n",
    "        #     print('\\n')\n",
    "\n",
    "print('Total null values in LifeLines data:',total_null)\n",
    "assert high_BMI.isnull()['age_at_scan'].sum()==total_null"
   ]
  },
  {
   "cell_type": "code",
   "execution_count": 17,
   "metadata": {},
   "outputs": [
    {
     "name": "stdout",
     "output_type": "stream",
     "text": [
      "From RedCap scan date is 2020-04-23 and date of birth is 1967-03-23\n",
      "RedCap age is: 53\n",
      "From LifeLines age at scan is 50.0\n",
      "Participant is: 103906\n",
      "\n",
      "\n",
      "From RedCap scan date is 2020-05-07 and date of birth is 1962-07-21\n",
      "RedCap age is: 57\n",
      "From LifeLines age at scan is 55.0\n",
      "Participant is: 105600\n",
      "\n",
      "\n",
      "Total null values in LifeLines data: 9\n"
     ]
    }
   ],
   "source": [
    "#Low BMI\n",
    "total_null=0\n",
    "for index,age in enumerate(low_BMI['age_at_scan'].values):\n",
    "    \n",
    "    if age==BMI_red_low['age_at_scan'].iloc[index]:\n",
    "        pass\n",
    "    else:\n",
    "        if age<200: #Ensure no nan values are printed\n",
    "            print('From RedCap scan date is',BMI_red_low['scan_date'].iloc[index], 'and date of birth is',BMI_red_low['date_of_birth'].iloc[index])\n",
    "            print(\"RedCap age is:\",calculate_age(BMI_red_low['scan_date'].iloc[index],BMI_red_low['date_of_birth'].iloc[index]))\n",
    "            print('From LifeLines age at scan is',age)\n",
    "            print('Participant is:',low_BMI['patientID'].iloc[index])\n",
    "            print('\\n')\n",
    "        else:\n",
    "            total_null+=1\n",
    "        #     # print('From RedCap scan date is',BMI_red_high['scan_date'].iloc[index], 'and date of birth is',BMI_red_high['date_of_birth'].iloc[index])\n",
    "        #     # print('From LifeLines age at scan is',age)\n",
    "            # print('Nan values in LifeLines data for participant',low_BMI['patientID'].iloc[index])\n",
    "        #     print('\\n')\n",
    "\n",
    "print('Total null values in LifeLines data:',total_null)\n",
    "assert low_BMI.isnull()['age_at_scan'].sum()==total_null"
   ]
  },
  {
   "attachments": {},
   "cell_type": "markdown",
   "metadata": {},
   "source": [
    "Get rest of variables from REDCap - Copied from 'demographics_emphysema_statistics.ipynb'"
   ]
  },
  {
   "cell_type": "code",
   "execution_count": 18,
   "metadata": {},
   "outputs": [],
   "source": [
    "# BMI_red"
   ]
  },
  {
   "cell_type": "code",
   "execution_count": 19,
   "metadata": {},
   "outputs": [
    {
     "name": "stdout",
     "output_type": "stream",
     "text": [
      "For never_smoker we have 327 values out of 358\n",
      "For ever_smoker we have 327 values out of 358\n",
      "For current_smoker we have 327 values out of 358\n",
      "For ex_smoker we have 327 values out of 358\n",
      "For pack_years we have 177 values out of 358\n"
     ]
    }
   ],
   "source": [
    "#Check if there are any missing values\n",
    "age=BMI_red['age_at_scan']\n",
    "weight=BMI_red['participant_weight']\n",
    "height=BMI_red['participant_length']\n",
    "\n",
    "gender=BMI_gender['gender']\n",
    "never_smoker=BMI_lifelines['never_smoker']\n",
    "ever_smoker=BMI_lifelines['ever_smoker']\n",
    "current_smoker=BMI_lifelines['current_smoker']\n",
    "ex_smoker=BMI_lifelines['ex_smoker']\n",
    "pack_years=BMI_lifelines['pack_years']\n",
    "\n",
    "try: #Confirm that there are no missing values for age, weight, height\n",
    "    assert np.sum(age.value_counts().values)==len(BMI_red)\n",
    "    assert np.sum(weight.value_counts().values)==len(BMI_red)\n",
    "    assert np.sum(height.value_counts().values)==len(BMI_red)\n",
    "except:\n",
    "    print(traceback.format_exc())\n",
    "    print('\\n')\n",
    "\n",
    "#Missing values for gender\n",
    "try:\n",
    "    assert np.sum(gender.value_counts().values)==len(BMI_lifelines)\n",
    "except:\n",
    "    print(\"For gender we have {} values out of {}\".format(np.sum(gender.value_counts().values),len(BMI_lifelines)))\n",
    "\n",
    "#Report missing values for smoking attributes\n",
    "try:\n",
    "    assert np.sum(never_smoker.value_counts().values)==len(BMI_lifelines)\n",
    "except:\n",
    "    print(\"For never_smoker we have {} values out of {}\".format(np.sum(never_smoker.value_counts().values),len(BMI_lifelines)))\n",
    "\n",
    "try:\n",
    "    assert np.sum(ever_smoker.value_counts().values)==len(BMI_lifelines)\n",
    "except:\n",
    "    print(\"For ever_smoker we have {} values out of {}\".format(np.sum(ever_smoker.value_counts().values),len(BMI_lifelines)))\n",
    "    \n",
    "try:\n",
    "    assert np.sum(current_smoker.value_counts().values)==len(BMI_lifelines)\n",
    "except:\n",
    "    print(\"For current_smoker we have {} values out of {}\".format(np.sum(current_smoker.value_counts().values),len(BMI_lifelines)))\n",
    "    \n",
    "try:\n",
    "    assert np.sum(ex_smoker.value_counts().values)==len(BMI_lifelines)\n",
    "except:\n",
    "    print(\"For ex_smoker we have {} values out of {}\".format(np.sum(ex_smoker.value_counts().values),len(BMI_lifelines)))\n",
    "    \n",
    "try:\n",
    "    assert np.sum(pack_years.value_counts().values)==len(BMI_lifelines)\n",
    "except:\n",
    "    print(\"For pack_years we have {} values out of {}\".format(np.sum(pack_years.value_counts().values),len(BMI_lifelines)))"
   ]
  },
  {
   "cell_type": "code",
   "execution_count": 20,
   "metadata": {},
   "outputs": [
    {
     "data": {
      "text/html": [
       "<div>\n",
       "<style scoped>\n",
       "    .dataframe tbody tr th:only-of-type {\n",
       "        vertical-align: middle;\n",
       "    }\n",
       "\n",
       "    .dataframe tbody tr th {\n",
       "        vertical-align: top;\n",
       "    }\n",
       "\n",
       "    .dataframe thead th {\n",
       "        text-align: right;\n",
       "    }\n",
       "</style>\n",
       "<table border=\"1\" class=\"dataframe\">\n",
       "  <thead>\n",
       "    <tr style=\"text-align: right;\">\n",
       "      <th></th>\n",
       "      <th>All participants (N=358)</th>\n",
       "      <th>Participants with low BMI (N=178)</th>\n",
       "      <th>Participants with high BMI (N=180)</th>\n",
       "      <th>P value</th>\n",
       "    </tr>\n",
       "    <tr>\n",
       "      <th>Characteristics</th>\n",
       "      <th></th>\n",
       "      <th></th>\n",
       "      <th></th>\n",
       "      <th></th>\n",
       "    </tr>\n",
       "  </thead>\n",
       "  <tbody>\n",
       "    <tr>\n",
       "      <th>Sex (male, %)</th>\n",
       "      <td>67 (19.0%)</td>\n",
       "      <td>24 (13.5%)</td>\n",
       "      <td>43 (24.0%)</td>\n",
       "      <td>NaN</td>\n",
       "    </tr>\n",
       "    <tr>\n",
       "      <th>Age</th>\n",
       "      <td>59.8±10.3</td>\n",
       "      <td>61.3±10.8</td>\n",
       "      <td>58.2±9.5</td>\n",
       "      <td>NaN</td>\n",
       "    </tr>\n",
       "    <tr>\n",
       "      <th>Weight</th>\n",
       "      <td>85.9±32.9</td>\n",
       "      <td>55.0±6.3</td>\n",
       "      <td>116.5±15.2</td>\n",
       "      <td>NaN</td>\n",
       "    </tr>\n",
       "    <tr>\n",
       "      <th>Height</th>\n",
       "      <td>170.9±8.6</td>\n",
       "      <td>171.2±8.3</td>\n",
       "      <td>170.6±8.8</td>\n",
       "      <td>NaN</td>\n",
       "    </tr>\n",
       "    <tr>\n",
       "      <th>Never smoker</th>\n",
       "      <td>138 (39.0%)</td>\n",
       "      <td>82 (46.1%)</td>\n",
       "      <td>56 (30.0%)</td>\n",
       "      <td>NaN</td>\n",
       "    </tr>\n",
       "    <tr>\n",
       "      <th>Ever smoker</th>\n",
       "      <td>189 (53.0%)</td>\n",
       "      <td>87 (48.9%)</td>\n",
       "      <td>102 (56.99999999999999%)</td>\n",
       "      <td>NaN</td>\n",
       "    </tr>\n",
       "    <tr>\n",
       "      <th>Pack years</th>\n",
       "      <td>15.1±14.2</td>\n",
       "      <td>15.2±13.2</td>\n",
       "      <td>15.0±14.9</td>\n",
       "      <td>NaN</td>\n",
       "    </tr>\n",
       "  </tbody>\n",
       "</table>\n",
       "</div>"
      ],
      "text/plain": [
       "                All participants (N=358) Participants with low BMI (N=178)  \\\n",
       "Characteristics                                                              \n",
       "Sex (male, %)                 67 (19.0%)                        24 (13.5%)   \n",
       "Age                            59.8±10.3                         61.3±10.8   \n",
       "Weight                         85.9±32.9                          55.0±6.3   \n",
       "Height                         170.9±8.6                         171.2±8.3   \n",
       "Never smoker                 138 (39.0%)                        82 (46.1%)   \n",
       "Ever smoker                  189 (53.0%)                        87 (48.9%)   \n",
       "Pack years                     15.1±14.2                         15.2±13.2   \n",
       "\n",
       "                Participants with high BMI (N=180) P value  \n",
       "Characteristics                                             \n",
       "Sex (male, %)                           43 (24.0%)     NaN  \n",
       "Age                                       58.2±9.5     NaN  \n",
       "Weight                                  116.5±15.2     NaN  \n",
       "Height                                   170.6±8.8     NaN  \n",
       "Never smoker                            56 (30.0%)     NaN  \n",
       "Ever smoker               102 (56.99999999999999%)     NaN  \n",
       "Pack years                               15.0±14.9     NaN  "
      ]
     },
     "execution_count": 20,
     "metadata": {},
     "output_type": "execute_result"
    }
   ],
   "source": [
    "#Create df with demographics to be filled below for each of the emphysema/non-emphysema categories\n",
    "df_statistics=pd.DataFrame(columns=['All participants (N=358)','Participants with low BMI (N=178)','Participants with high BMI (N=180)','P value'],\n",
    "                            index=['Sex (male, %)',#'Number of participants','Gender Male', 'Gender Female',\n",
    "                                   'Age', 'Weight', 'Height',\n",
    "                                   'Never smoker','Ever smoker','Pack years']) #'Current smoker', 'Ex smoker',\n",
    "\n",
    "df_statistics.index.name = 'Characteristics' \n",
    "\n",
    "#All participants statistics\n",
    "num_participants=len(BMI_red) #Same as BMI_lifelines\n",
    "males=np.sum(BMI_gender['gender']=='Male')\n",
    "females=np.sum(BMI_gender['gender']=='Female')\n",
    "age_mean=np.mean(BMI_red['age_at_scan'])\n",
    "age_std=np.std(BMI_red['age_at_scan'])\n",
    "weight_mean=np.mean(BMI_red['participant_weight'])\n",
    "weight_std=np.std(BMI_red['participant_weight'])\n",
    "length_mean=np.mean(BMI_red['participant_length'])\n",
    "length_std=np.std(BMI_red['participant_length'])\n",
    "\n",
    "never_smoker=np.sum(BMI_lifelines['never_smoker']==True)\n",
    "ever_smoker=np.sum(BMI_lifelines['ever_smoker']==True)\n",
    "current_smoker=np.sum(BMI_lifelines['current_smoker']==True)\n",
    "ex_smoker=np.sum(BMI_lifelines['ex_smoker']==True)\n",
    "pack_years_mean=np.mean(BMI_lifelines['pack_years'])\n",
    "pack_years_std=np.std(BMI_lifelines['pack_years'])\n",
    "\n",
    "#High BMI participants statistics\n",
    "num_participants_high=len(BMI_red_high)\n",
    "males_high=np.sum(BMI_gender_high['gender']=='Male')\n",
    "females_high=np.sum(BMI_gender_high['gender']=='Female')\n",
    "age_mean_high=np.mean(BMI_red_high['age_at_scan'])\n",
    "age_std_high=np.std(BMI_red_high['age_at_scan'])\n",
    "weight_mean_high=np.mean(BMI_red_high['participant_weight'])\n",
    "weight_std_high=np.std(BMI_red_high['participant_weight'])\n",
    "length_mean_high=np.mean(BMI_red_high['participant_length'])\n",
    "length_std_high=np.std(BMI_red_high['participant_length'])\n",
    "\n",
    "never_smoker_high=np.sum(high_BMI['never_smoker']==True)\n",
    "ever_smoker_high=np.sum(high_BMI['ever_smoker']==True)\n",
    "current_smoker_high=np.sum(high_BMI['current_smoker']==True)\n",
    "ex_smoker_high=np.sum(high_BMI['ex_smoker']==True)\n",
    "pack_years_mean_high=np.mean(high_BMI['pack_years'])\n",
    "pack_years_std_high=np.std(high_BMI['pack_years'])\n",
    "\n",
    "#Low BMI participants statistics\n",
    "num_participants_low=len(BMI_red_low)\n",
    "males_low=np.sum(BMI_gender_low['gender']=='Male')\n",
    "females_low=np.sum(BMI_gender_low['gender']=='Female')\n",
    "age_mean_low=np.mean(BMI_red_low['age_at_scan'])\n",
    "age_std_low=np.std(BMI_red_low['age_at_scan'])\n",
    "weight_mean_low=np.mean(BMI_red_low['participant_weight'])\n",
    "weight_std_low=np.std(BMI_red_low['participant_weight'])\n",
    "length_mean_low=np.mean(BMI_red_low['participant_length'])\n",
    "length_std_low=np.std(BMI_red_low['participant_length'])\n",
    "\n",
    "never_smoker_low=np.sum(low_BMI['never_smoker']==True)\n",
    "ever_smoker_low=np.sum(low_BMI['ever_smoker']==True)\n",
    "current_smoker_low=np.sum(low_BMI['current_smoker']==True)\n",
    "ex_smoker_low=np.sum(low_BMI['ex_smoker']==True)\n",
    "pack_years_mean_low=np.mean(low_BMI['pack_years'])\n",
    "pack_years_std_low=np.std(low_BMI['pack_years'])\n",
    "\n",
    "\n",
    "#Add them to df\n",
    "df_statistics['All participants (N=358)']=[\n",
    "                     #    num_participants,\n",
    "                        str(males)+' ('+str(100*np.round(males/num_participants,2))+'%)',\n",
    "                     #    str(females)+' ('+str(100*np.round(females/num_participants,2))+'%)',\n",
    "                        str(np.round(age_mean,1))+str('±')+str(np.round(age_std,1)),\n",
    "                        str(np.round(weight_mean,1))+str('±')+str(np.round(weight_std,1)),\n",
    "                        str(np.round(length_mean,1))+str('±')+str(np.round(length_std,1)),\n",
    "                        str(never_smoker)+' ('+str(100*np.round(never_smoker/num_participants,2))+'%)', \n",
    "                        str(ever_smoker)+' ('+str(100*np.round(ever_smoker/num_participants,2))+'%)',\n",
    "                        str(np.round(pack_years_mean,1))+str('±')+str(np.round(pack_years_std,1))]\n",
    "\n",
    "df_statistics['Participants with high BMI (N=180)']=[\n",
    "                     #    str(num_participants_high)+' ('+str(100*np.round(num_participants_high/num_participants,2))+'%)',\n",
    "                        str(males_high)+' ('+str(100*np.round(males_high/num_participants_high,2))+'%)',\n",
    "                     #    str(females_high)+' ('+str(100*np.round(females_high/num_participants_high,2))+'%)',\n",
    "                        str(np.round(age_mean_high,1))+str('±')+str(np.round(age_std_high,1)),\n",
    "                        str(np.round(weight_mean_high,1))+str('±')+str(np.round(weight_std_high,1)),\n",
    "                        str(np.round(length_mean_high,1))+str('±')+str(np.round(length_std_high,1)),\n",
    "                        str(never_smoker_high)+' ('+str(100*np.round(never_smoker_high/num_participants_high,1))+'%)', \n",
    "                        str(ever_smoker_high)+' ('+str(100*np.round(ever_smoker_high/num_participants_high,2))+'%)', \n",
    "                        str(np.round(pack_years_mean_high,1))+str('±')+str(np.round(pack_years_std_high,1))]\n",
    "\n",
    "df_statistics['Participants with low BMI (N=178)']=[\n",
    "                     #    str(num_participants_low)+' ('+str(100*np.round(num_participants_low/num_participants,1))+'%)',\n",
    "                        str(males_low)+' ('+str(np.round(100*males_low/num_participants_low,1))+'%)',\n",
    "                     #    str(females_low)+' ('+str(np.round(100*females_low/num_participants_low,1))+'%)',       \n",
    "                        str(np.round(age_mean_low,1))+str('±')+str(np.round(age_std_low,1)),\n",
    "                        str(np.round(weight_mean_low,1))+str('±')+str(np.round(weight_std_low,1)),\n",
    "                        str(np.round(length_mean_low,1))+str('±')+str(np.round(length_std_low,1)),\n",
    "                        str(never_smoker_low)+' ('+str(np.round(100*never_smoker_low/num_participants_low,1))+'%)', \n",
    "                        str(ever_smoker_low)+' ('+str(np.round(100*ever_smoker_low/num_participants_low,1))+'%)',\n",
    "                        str(np.round(pack_years_mean_low,1))+str('±')+str(np.round(pack_years_std_low,1))]\n",
    "\n",
    "df_statistics\n",
    "#Symbol '±' copied from online\n",
    "#'ever smoker' is 'current smoker'+'ex smoker'. "
   ]
  },
  {
   "cell_type": "code",
   "execution_count": 21,
   "metadata": {},
   "outputs": [],
   "source": [
    "#Manual correction of rounding errors\n",
    "df_statistics['Participants with high BMI (N=180)'][-2]=df_statistics['Participants with high BMI (N=180)'][-2][:4]+'('+ str(\n",
    "    np.round(float(df_statistics['Participants with high BMI (N=180)'][-2][5:10])))+'%)'\n"
   ]
  },
  {
   "attachments": {},
   "cell_type": "markdown",
   "metadata": {},
   "source": [
    "### P-value calculations"
   ]
  },
  {
   "cell_type": "code",
   "execution_count": 22,
   "metadata": {},
   "outputs": [],
   "source": [
    "P_vals=['','gender=','','age=','weight=','height=','smoking status=','','pack years='] #For those column we calculate p values"
   ]
  },
  {
   "cell_type": "code",
   "execution_count": 23,
   "metadata": {},
   "outputs": [
    {
     "name": "stdout",
     "output_type": "stream",
     "text": [
      "P-value for gender: 0.016920984700406223\n",
      "P-value for age: 0.003412932286864418\n",
      "P-value for weight: 1.1263208978785698e-162\n",
      "P-value for length: 0.5338510507246161\n",
      "P-value for pack_years: 0.9473732620841131\n",
      "P-value for smoking status (never, ever): 0.022562494328701454\n"
     ]
    }
   ],
   "source": [
    "#Create two groups of categorical data\n",
    "group1 = [males_high, males_low]  # frequencies of each category in group 1 - males\n",
    "group2 = [females_high, females_low]  # frequencies of each category in group 2 - females\n",
    "\n",
    "# calculate the chi-square statistic and p-value\n",
    "chi2_statistic, p_value, dof, expected = stats.chi2_contingency([group1, group2])\n",
    "\n",
    "# print the p-value\n",
    "print(\"P-value for gender:\", p_value)\n",
    "P_vals[1]=str(p_value)\n",
    "\n",
    "\n",
    "# create two groups of numeric data\n",
    "group1 = BMI_red_low['age_at_scan']\n",
    "group2 = BMI_red_high['age_at_scan']\n",
    "\n",
    "# calculate the t-statistic and p-value\n",
    "t_statistic, p_value = stats.ttest_ind(group1, group2)\n",
    "\n",
    "# print the p-value\n",
    "print(\"P-value for age:\", p_value)\n",
    "P_vals[3]=str(p_value)\n",
    "\n",
    "\n",
    "#Repeat above for other categorical and numeric data\n",
    "\n",
    "# create two groups of numeric data\n",
    "group1 = BMI_red_low['participant_weight']\n",
    "group2 = BMI_red_high['participant_weight']\n",
    "\n",
    "# calculate the t-statistic and p-value\n",
    "t_statistic, p_value = stats.ttest_ind(group1, group2)\n",
    "\n",
    "# print the p-value\n",
    "print(\"P-value for weight:\", p_value)\n",
    "P_vals[4]=str(p_value)\n",
    "\n",
    "\n",
    "# create two groups of numeric data\n",
    "group1 = BMI_red_low['participant_length']\n",
    "group2 = BMI_red_high['participant_length']\n",
    "\n",
    "# calculate the t-statistic and p-value\n",
    "t_statistic, p_value = stats.ttest_ind(group1, group2)\n",
    "\n",
    "# print the p-value\n",
    "print(\"P-value for length:\", p_value)\n",
    "P_vals[5]=str(p_value)\n",
    "\n",
    "# create two groups of numeric data\n",
    "group1 = low_BMI['pack_years'].dropna()\n",
    "group2 = high_BMI['pack_years'].dropna()\n",
    "\n",
    "# calculate the t-statistic and p-value\n",
    "t_statistic, p_value = stats.ttest_ind(group1, group2)\n",
    "\n",
    "# print the p-value\n",
    "print(\"P-value for pack_years:\", p_value)\n",
    "P_vals[8]=str(p_value) #was 10\n",
    "\n",
    "\n",
    "# create two groups of categorical data\n",
    "group1 = [never_smoker_high, never_smoker_low]  # frequencies of each category in group 1 - never smokers\n",
    "group2 = [ever_smoker_high, ever_smoker_low]  # frequencies of each category in group 2 - even smokers\n",
    "\n",
    "# calculate the chi-square statistic and p-value\n",
    "chi2_statistic, p_value, dof, expected = stats.chi2_contingency([group1, group2])\n",
    "\n",
    "# print the p-value\n",
    "print(\"P-value for smoking status (never, ever):\", p_value)\n",
    "P_vals[6]=str(p_value)"
   ]
  },
  {
   "cell_type": "code",
   "execution_count": 24,
   "metadata": {},
   "outputs": [
    {
     "data": {
      "text/html": [
       "<div>\n",
       "<style scoped>\n",
       "    .dataframe tbody tr th:only-of-type {\n",
       "        vertical-align: middle;\n",
       "    }\n",
       "\n",
       "    .dataframe tbody tr th {\n",
       "        vertical-align: top;\n",
       "    }\n",
       "\n",
       "    .dataframe thead th {\n",
       "        text-align: right;\n",
       "    }\n",
       "</style>\n",
       "<table border=\"1\" class=\"dataframe\">\n",
       "  <thead>\n",
       "    <tr style=\"text-align: right;\">\n",
       "      <th></th>\n",
       "      <th>All participants (N=358)</th>\n",
       "      <th>Participants with low BMI (N=178)</th>\n",
       "      <th>Participants with high BMI (N=180)</th>\n",
       "      <th>P value</th>\n",
       "    </tr>\n",
       "    <tr>\n",
       "      <th>Characteristics</th>\n",
       "      <th></th>\n",
       "      <th></th>\n",
       "      <th></th>\n",
       "      <th></th>\n",
       "    </tr>\n",
       "  </thead>\n",
       "  <tbody>\n",
       "    <tr>\n",
       "      <th>Sex (male, %)</th>\n",
       "      <td>67 (19.0%)</td>\n",
       "      <td>24 (13.5%)</td>\n",
       "      <td>43 (24.0%)</td>\n",
       "      <td>0.017</td>\n",
       "    </tr>\n",
       "    <tr>\n",
       "      <th>Age</th>\n",
       "      <td>59.8±10.3</td>\n",
       "      <td>61.3±10.8</td>\n",
       "      <td>58.2±9.5</td>\n",
       "      <td>0.003</td>\n",
       "    </tr>\n",
       "    <tr>\n",
       "      <th>Weight</th>\n",
       "      <td>85.9±32.9</td>\n",
       "      <td>55.0±6.3</td>\n",
       "      <td>116.5±15.2</td>\n",
       "      <td>&lt;0.001</td>\n",
       "    </tr>\n",
       "    <tr>\n",
       "      <th>Height</th>\n",
       "      <td>170.9±8.6</td>\n",
       "      <td>171.2±8.3</td>\n",
       "      <td>170.6±8.8</td>\n",
       "      <td>0.534</td>\n",
       "    </tr>\n",
       "    <tr>\n",
       "      <th>Never smoker</th>\n",
       "      <td>138 (39.0%)</td>\n",
       "      <td>82 (46.1%)</td>\n",
       "      <td>56 (30.0%)</td>\n",
       "      <td>0.023</td>\n",
       "    </tr>\n",
       "    <tr>\n",
       "      <th>Ever smoker</th>\n",
       "      <td>189 (53.0%)</td>\n",
       "      <td>87 (48.9%)</td>\n",
       "      <td>102 (57.0%)</td>\n",
       "      <td></td>\n",
       "    </tr>\n",
       "    <tr>\n",
       "      <th>Pack years</th>\n",
       "      <td>15.1±14.2</td>\n",
       "      <td>15.2±13.2</td>\n",
       "      <td>15.0±14.9</td>\n",
       "      <td>0.947</td>\n",
       "    </tr>\n",
       "  </tbody>\n",
       "</table>\n",
       "</div>"
      ],
      "text/plain": [
       "                All participants (N=358) Participants with low BMI (N=178)  \\\n",
       "Characteristics                                                              \n",
       "Sex (male, %)                 67 (19.0%)                        24 (13.5%)   \n",
       "Age                            59.8±10.3                         61.3±10.8   \n",
       "Weight                         85.9±32.9                          55.0±6.3   \n",
       "Height                         170.9±8.6                         171.2±8.3   \n",
       "Never smoker                 138 (39.0%)                        82 (46.1%)   \n",
       "Ever smoker                  189 (53.0%)                        87 (48.9%)   \n",
       "Pack years                     15.1±14.2                         15.2±13.2   \n",
       "\n",
       "                Participants with high BMI (N=180) P value  \n",
       "Characteristics                                             \n",
       "Sex (male, %)                           43 (24.0%)   0.017  \n",
       "Age                                       58.2±9.5   0.003  \n",
       "Weight                                  116.5±15.2  <0.001  \n",
       "Height                                   170.6±8.8   0.534  \n",
       "Never smoker                            56 (30.0%)   0.023  \n",
       "Ever smoker                            102 (57.0%)          \n",
       "Pack years                               15.0±14.9   0.947  "
      ]
     },
     "execution_count": 24,
     "metadata": {},
     "output_type": "execute_result"
    }
   ],
   "source": [
    "#P values smaller than 0.001 set to '<0.001' and others are rounded to 2 digits\n",
    "for ind,val in enumerate(P_vals):\n",
    "    if val!='':\n",
    "        if float(val)<0.001:\n",
    "            P_vals[ind]='<0.001'\n",
    "        else:\n",
    "            P_vals[ind]=np.round(float(val),3)\n",
    "    else:\n",
    "        pass\n",
    "\n",
    "indices_to_delete = [0,2]  # Indices of the values to be deleted\n",
    "\n",
    "# Delete values at specified indices using list comprehension and 'del'\n",
    "P_vals = [value for index, value in enumerate(P_vals) if index not in indices_to_delete]\n",
    "\n",
    "df_statistics['P value']=P_vals\n",
    "df_statistics"
   ]
  },
  {
   "cell_type": "code",
   "execution_count": 25,
   "metadata": {},
   "outputs": [],
   "source": [
    "df_statistics.to_excel('demographics_BMI_statistics.xlsx')"
   ]
  }
 ],
 "metadata": {
  "kernelspec": {
   "display_name": "base",
   "language": "python",
   "name": "python3"
  },
  "language_info": {
   "codemirror_mode": {
    "name": "ipython",
    "version": 3
   },
   "file_extension": ".py",
   "mimetype": "text/x-python",
   "name": "python",
   "nbconvert_exporter": "python",
   "pygments_lexer": "ipython3",
   "version": "3.9.12"
  },
  "orig_nbformat": 4
 },
 "nbformat": 4,
 "nbformat_minor": 2
}
