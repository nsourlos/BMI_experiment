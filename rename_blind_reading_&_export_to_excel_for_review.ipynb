{
 "cells": [
  {
   "cell_type": "markdown",
   "id": "e468adab",
   "metadata": {},
   "source": [
    "#### Rename images to be reviewed by radiologists to only have the slice number on the title (remove 'fp' and 'fn' information from them)"
   ]
  },
  {
   "cell_type": "code",
   "execution_count": 1,
   "id": "211a6342",
   "metadata": {},
   "outputs": [],
   "source": [
    "import pandas as pd\n",
    "import os"
   ]
  },
  {
   "cell_type": "code",
   "execution_count": 2,
   "id": "b752c008",
   "metadata": {},
   "outputs": [],
   "source": [
    "path=os.getcwd()+\"/BMI_all_discrepancies\" #Assume that we have subfolders with low/high BMI participants, each of which has folders with participant IDs"
   ]
  },
  {
   "cell_type": "code",
   "execution_count": 1,
   "id": "0eb58636",
   "metadata": {},
   "outputs": [],
   "source": [
    "for folder in os.listdir(path):\n",
    "    for pat in os.listdir(path+folder):\n",
    "        for file in os.listdir(path+folder+'/'+pat):\n",
    "            if 'fp' in file or 'fn' in file:\n",
    "                print(file)\n",
    "                i=1\n",
    "                try: #Since it will never quit without error - keeps looping since the file below would always exists\n",
    "                    while file[:3]+'.png' in os.listdir(path+folder+'/'+pat):\n",
    "                        os.rename(path+folder+'/'+pat+'/'+file,path+folder+'/'+pat+'/'+file[:3]+'_'+str(i)+'.png')\n",
    "                        i=i+1\n",
    "                except:\n",
    "                    print(\"Exited from loop for\",path+folder+'/'+pat)\n",
    "                \n",
    "                if file[:3]+'.png' not in os.listdir(path+folder+'/'+pat):\n",
    "                    os.rename(path+folder+'/'+pat+'/'+file,path+folder+'/'+pat+'/'+file[:3]+'.png')\n",
    "                    \n",
    "                i=0"
   ]
  },
  {
   "attachments": {},
   "cell_type": "markdown",
   "id": "86dbe9b8",
   "metadata": {},
   "source": [
    "### Export to excel"
   ]
  },
  {
   "attachments": {},
   "cell_type": "markdown",
   "id": "327507aa",
   "metadata": {},
   "source": [
    "df=pd.DataFrame(columns=['participant_id','slice_number','type_of_finding','details_of_finding','confidence'])"
   ]
  },
  {
   "attachments": {},
   "cell_type": "markdown",
   "id": "3b4ecd04",
   "metadata": {},
   "source": [
    "for folder in os.listdir(path):\n",
    "    for subfolder in os.listdir(path+'/'+folder):\n",
    "        for file in os.listdir(path+'/'+folder+'/'+subfolder):\n",
    "            dict_with_pat={'participant_id':subfolder,\"slice_number\":file[:-4]}\n",
    "            df = pd.concat([df, pd.DataFrame.from_records([dict_with_pat])])\n",
    "df"
   ]
  },
  {
   "cell_type": "code",
   "execution_count": null,
   "id": "ef42c931",
   "metadata": {},
   "outputs": [],
   "source": [
    "df.to_excel(\"BMI_to_review.xlsx\",index=False)"
   ]
  }
 ],
 "metadata": {
  "kernelspec": {
   "display_name": "Python 3",
   "language": "python",
   "name": "python3"
  },
  "language_info": {
   "codemirror_mode": {
    "name": "ipython",
    "version": 3
   },
   "file_extension": ".py",
   "mimetype": "text/x-python",
   "name": "python",
   "nbconvert_exporter": "python",
   "pygments_lexer": "ipython3",
   "version": "3.9.12"
  }
 },
 "nbformat": 4,
 "nbformat_minor": 5
}
